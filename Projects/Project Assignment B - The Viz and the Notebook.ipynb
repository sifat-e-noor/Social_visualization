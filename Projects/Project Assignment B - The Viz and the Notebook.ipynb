{
 "cells": [
  {
   "cell_type": "markdown",
   "id": "713bf300",
   "metadata": {},
   "source": [
    "**An explainer Jupyter Notebook.** The explainer notebook should contain all the behind the scenes data-analysis stuff, details on the dataset, why you've selected these particular visualizations, explanations methodology, etc.(the purpose of the explainer notebook is to provide additional details for interested/scientific readers)\n",
    "\n",
    "The notebook should contain your analysis and code. Please structure it into the following sections "
   ]
  },
  {
   "cell_type": "markdown",
   "id": "a21571df",
   "metadata": {},
   "source": [
    "1. **Motivation**"
   ]
  },
  {
   "cell_type": "markdown",
   "id": "3c336795",
   "metadata": {},
   "source": [
    "- What is your dataset?\n",
    "    - The World Earthquake Data Dataset for the period of 1906–2023 is a thorough database of information on significant earthquakes that have happened all over the world in the previous 123 years. The National Earthquake Information Center (NEIC)[[1]](https://www.usgs.gov/programs/earthquake-hazards/national-earthquake-information-center-neic) of the U.S. Geological Survey (USGS)[[2]](https://www.usgs.gov/) is responsible for compiling and maintaining this dataset. To give the most precise and current information on earthquake events, it is frequently updated.\n",
    "   - Each entry in the dataset contains information about one of the more than 37,000 earthquakes that took place during this time period, including the earthquake's date, time, location, magnitude, and depth.\n",
    "    - Seismologists, geologists, and other researchers who study earthquakes, as well as emergency management officials and other experts who work in disaster response and preparation, can all benefit from the dataset. The general public can also benefit from using it to learn more about the past of earthquakes and their effects on human societies.\n",
    "    - The datset downloaded from kaggle [[3]](https://www.kaggle.com/datasets/jahaidulislam/significant-earthquake-dataset-1900-2023?resource=download)"
   ]
  },
  {
   "cell_type": "markdown",
   "id": "2691f166",
   "metadata": {},
   "source": [
    "- Why did you choose this/these particular dataset(s)?\n",
    "    - Since the last ice age, there have been numerous large earthquakes, but their observation and effects have not always been felt globally.\n",
    "    - On February 6, Turkey experienced two significant earthquakes close to the Syrian border. Sadly, both were stronger than a 7, and 59,259 people were confirmed dead, with 50,783 of them in Turkey and 8,476 in Syria. It is the fifth-deadliest earthquake in the 21st century and the deadliest earthquake on record since the 2010 Haiti earthquake [[4]](https://en.wikipedia.org/wiki/2010_Haiti_earthquake)and the fifth-deadliest of the 21st century [[5]](https://en.wikipedia.org/wiki/Lists_of_21st-century_earthquakes#List_of_deadliest_earthquakes), according to reports. The fourth-costliest earthquakes on record [[6]](https://en.wikipedia.org/wiki/List_of_costliest_earthquakes) [[7]](https://www.caabu.org/news/article/political-failure-has-killed-people-syria-and-after-earthquakes), the damages were estimated at US dollar 104 billion in Turkey and US dollar 14.8 billion in Syria [[8]](https://www.barrons.com/news/donor-conference-seeks-to-rally-quake-aid-for-turkey-syria-bce11409).\n",
    "    - Since the beginning of time, natural disasters have had a big impact on human lives, frequently leaving a trail of death and destruction in their wake. Despite this, many areas of the world continue to lack the resources needed to implement necessary measures, particularly when it comes to earthquakes. It is for this reason that our project, which focuses on earthquake data analysis, is so intriguing. We intend to analyze the data to determine how changes in social, political, and economic facets of human life have been impacted. This information might aid in efforts made by the international authority to take the necessary steps for the affected communities. Our ultimate objective is to develop a deeper understanding of the social aspects of earthquake data in order to highlight vulnerable communities and communicate potential suggestions of workable solutions for these communities to the rest of the world."
   ]
  },
  {
   "cell_type": "markdown",
   "id": "2866c46a",
   "metadata": {},
   "source": [
    "- What was your goal for the end user's experience?\n",
    "    - The effects of earthquakes on human life in various parts of the world are a particular focus of our project. and seeks to examine the information through the lenses of reporting inequalities and discrepancies, as well as social, political, geographic, financial, and GDP growth in various regions as well as geospatial data. Using an interactive map and graphs, we hope to investigate the effects and effects of earthquake in various parts of the world. To give a more complete picture of the data, these could include a variety of features like population density and comparison on a day-by-day, week-by-week, and month-by-month basis. "
   ]
  },
  {
   "cell_type": "markdown",
   "id": "a8d3d0f8",
   "metadata": {},
   "source": [
    "- **Basic stats**. Let's understand the dataset better"
   ]
  },
  {
   "cell_type": "code",
   "execution_count": null,
   "id": "eaa9e5fe",
   "metadata": {},
   "outputs": [],
   "source": []
  },
  {
   "cell_type": "markdown",
   "id": "9cf56368",
   "metadata": {},
   "source": [
    "- Write about your choices in data cleaning and preprocessing"
   ]
  },
  {
   "cell_type": "markdown",
   "id": "d150e9f0",
   "metadata": {},
   "source": [
    "- Write a short section that discusses the dataset stats, containing key points/plots from your exploratory data analysis."
   ]
  },
  {
   "cell_type": "markdown",
   "id": "c59b037c",
   "metadata": {},
   "source": [
    "3. **Data Analysis**"
   ]
  },
  {
   "cell_type": "markdown",
   "id": "111fb9d7",
   "metadata": {},
   "source": [
    "- Describe your data analysis and explain what you've learned about the dataset."
   ]
  },
  {
   "cell_type": "markdown",
   "id": "904ab6d7",
   "metadata": {},
   "source": [
    "- If relevant, talk about your machine-learning"
   ]
  },
  {
   "cell_type": "markdown",
   "id": "2f71093b",
   "metadata": {},
   "source": [
    "4. **Genre**. Which genre of data story did you use?\n",
    "- We aim to do magazine style narrative storytelling of our data. Our aim it to have an author driven magazine style, as we want to take the user through our exploration of the data linearly to finally towards the end present our key findings. So that the storytelling is controlled, and we control the messaging. However, as we aim to have interactivity through maps. We ultimately, is gonna have a hybrid approach. As the interactivity would be a reader-driven element\n",
    "\n",
    "- We believe this genre is the best way to communicate it, because we through this genre humanize the data and makes it more relatable, which is important for topics such as natural disasters that have significant impact on people’s lives. Then magazine-style also provides the importunity to include interactivity, which helps our story to be more appealing to the reader as the reader is in engaging with the story."
   ]
  },
  {
   "cell_type": "markdown",
   "id": "f8a5a91f",
   "metadata": {},
   "source": [
    "- Which tools did you use from each of the 3 categories of Visual Narrative (Figure 7 in Segal and Heer). Why?\n",
    "\n",
    "Visual Narrative(we have to pick any one section)\n",
    "\n",
    "**Visual Structuring:Section1**\n",
    "- Establishing Shot / Splash Screen\n",
    "- Consistent Visual Platform\n",
    "- Progress Bar / Timebar\n",
    "- \"Checklist\" Progresss Tracker\n",
    "\n",
    "**Highlighting:Section2**\n",
    "- Close-Ups\n",
    "- Feature Distinction\n",
    "- Character Direction\n",
    "- Motion\n",
    "- Audio\n",
    "- Zooming\n",
    "\n",
    "**Transition Guidance:Section3**\n",
    "- Familiar Objects (but still cuts)\n",
    "- Viewing Angle\n",
    "- Viewer (Camera) Motion\n",
    "- Continuity Editing\n",
    "- Object Continuity\n",
    "- Animated Transitions"
   ]
  },
  {
   "cell_type": "markdown",
   "id": "7dc3a972",
   "metadata": {},
   "source": [
    "- Which tools did you use from each of the 3 categories of Narrative Structure (Figure 7 in Segal and Heer). Why?\n",
    "\n",
    "Narrative Structure(we have to pick any one section)\n",
    "\n",
    "**Ordering:Section1**\n",
    "- Random Access\n",
    "- User Directed Path\n",
    "- Linear\n",
    "\n",
    "**Interactivity:Section2**\n",
    "- Hover Highlighting / Details\n",
    "- Filtering / Selection / Search\n",
    "- Navigation Buttons\n",
    "- Very Limited Interactivity\n",
    "- Explicit Instruction\n",
    "- Tacit Tutorial\n",
    "- Stimulating Default Views\n",
    "\n",
    "**Messaging:Section3**\n",
    "- Captions / Headlines\n",
    "- Annotations\n",
    "- Accompanying Article\n",
    "- Multi-Messaging\n",
    "- Comment Repitition\n",
    "- Introductory Text\n",
    "- Summary / Synthesis"
   ]
  },
  {
   "cell_type": "markdown",
   "id": "2373ff7b",
   "metadata": {},
   "source": [
    "5. **Visualizations.**"
   ]
  },
  {
   "cell_type": "markdown",
   "id": "fa52956c",
   "metadata": {},
   "source": [
    "- Explain the visualizations you've chosen."
   ]
  },
  {
   "cell_type": "markdown",
   "id": "9f6528fb",
   "metadata": {},
   "source": [
    "- Why are they right for the story you want to tell?"
   ]
  },
  {
   "cell_type": "markdown",
   "id": "a413e6f8",
   "metadata": {},
   "source": [
    "6. **Discussion.** Think critically about your creation"
   ]
  },
  {
   "cell_type": "markdown",
   "id": "c2a0c345",
   "metadata": {},
   "source": [
    "- What went well?"
   ]
  },
  {
   "cell_type": "markdown",
   "id": "0cb5b532",
   "metadata": {},
   "source": [
    "- What is still missing? What could be improved?, Why?"
   ]
  },
  {
   "cell_type": "markdown",
   "id": "46fb81b8",
   "metadata": {},
   "source": [
    "7. **Contributions**. Who did what?\n",
    "You should write (just briefly) which group member was the main responsible for which elements of the assignment. (I want you guys to understand every part of the assignment, but usually there is someone who took lead role on certain portions of the work. That's what you should explain).\n",
    "It is not OK simply to write \"All group members contributed equally\"."
   ]
  },
  {
   "cell_type": "markdown",
   "id": "57c72dd2",
   "metadata": {},
   "source": [
    "8. **References.** \n",
    "Make sure that you use references when they're needed and follow academic standards."
   ]
  },
  {
   "cell_type": "markdown",
   "id": "166ac7dc",
   "metadata": {},
   "source": [
    "1. [National Earthquake Information Center (NEIC)](https://www.usgs.gov/programs/earthquake-hazards/national-earthquake-information-center-neic)\n",
    "2. [USGS](https://www.usgs.gov/)\n",
    "3. [significant-earthquake-dataset-1900-2023](https://www.kaggle.com/datasets/jahaidulislam/significant-earthquake-dataset-1900-2023?resource=download)\n",
    "4. [2010_Haiti_earthquake](https://en.wikipedia.org/wiki/2010_Haiti_earthquake)\n",
    "5. [Lists_of_21st-century_earthquakes#List_of_deadliest_earthquakes](https://en.wikipedia.org/wiki/Lists_of_21st-century_earthquakes#List_of_deadliest_earthquakes)\n",
    "6. [List_of_costliest_earthquakes](https://en.wikipedia.org/wiki/List_of_costliest_earthquakes)\n",
    "7. [Political failure has killed people in Syria before and after the earthquakes](https://www.caabu.org/news/article/political-failure-has-killed-people-syria-and-after-earthquakes)\n",
    "8. [Donors Vow 7 Bn Euros For Turkey, Syria Quake Aid](https://www.barrons.com/news/donor-conference-seeks-to-rally-quake-aid-for-turkey-syria-bce11409)"
   ]
  },
  {
   "cell_type": "code",
   "execution_count": null,
   "id": "bdb9789b",
   "metadata": {},
   "outputs": [],
   "source": []
  }
 ],
 "metadata": {
  "kernelspec": {
   "display_name": "Python 3 (ipykernel)",
   "language": "python",
   "name": "python3"
  },
  "language_info": {
   "codemirror_mode": {
    "name": "ipython",
    "version": 3
   },
   "file_extension": ".py",
   "mimetype": "text/x-python",
   "name": "python",
   "nbconvert_exporter": "python",
   "pygments_lexer": "ipython3",
   "version": "3.9.12"
  }
 },
 "nbformat": 4,
 "nbformat_minor": 5
}
