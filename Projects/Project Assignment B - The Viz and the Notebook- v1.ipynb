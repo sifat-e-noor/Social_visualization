{
 "cells": [
  {
   "cell_type": "markdown",
   "id": "cfdcdf15",
   "metadata": {},
   "source": [
    "##### All import go here"
   ]
  },
  {
   "cell_type": "code",
   "execution_count": 1,
   "id": "9163242d",
   "metadata": {},
   "outputs": [],
   "source": [
    "import calendar\n",
    "import datetime\n",
    "from datetime import datetime, date, time, timezone\n",
    "from geopy.geocoders import Nominatim\n",
    "import numpy as np\n",
    "import plotly.express as px\n",
    "import os\n",
    "import pandas as pd\n",
    "import urllib.request\n",
    "import requests\n",
    "import matplotlib\n",
    "import matplotlib.pyplot as plt\n",
    "import matplotlib.colors as mcolors\n",
    "import matplotlib.cm as cm\n",
    "from math import radians, cos, sin, asin, sqrt\n",
    "import seaborn as sns\n",
    "from scipy import stats # For in-built method to get PCC\n",
    "from scipy.stats import pearsonr\n",
    "from urllib.parse import quote\n",
    "from matplotlib import rc\n",
    "import warnings\n",
    "warnings.filterwarnings('ignore')\n",
    "from matplotlib import pyplot, dates\n",
    "plt.rcParams.update(plt.rcParamsDefault)\n",
    "plt.rcParams.update({'figure.figsize': (15, 5)})\n",
    "%matplotlib inline\n",
    "\n",
    "from bokeh.plotting import figure, show\n",
    "from bokeh.transform import factor_cmap\n",
    "from bokeh.models import (BasicTicker, ColorBar, ColumnDataSource,FactorRange,\n",
    "                          LinearColorMapper, PrintfTickFormatter,HoverTool,CategoricalColorMapper)\n",
    "from bokeh.transform import transform\n",
    "from bokeh.models import Legend\n",
    "from bokeh.palettes import Spectral4 \n",
    "from bokeh.palettes import Category20\n",
    "from bokeh.palettes import Magma, Inferno, Plasma, Viridis, Cividis\n",
    "from bokeh.io import output_notebook, push_notebook, show, output_file\n",
    "from bokeh.layouts import row,column,gridplot\n",
    "from bokeh.models.widgets import Tabs,Panel"
   ]
  },
  {
   "cell_type": "code",
   "execution_count": 2,
   "id": "d9c34610",
   "metadata": {},
   "outputs": [],
   "source": [
    "rc('font',**{'family':'sans-serif','sans-serif':['Helvetica']})\n",
    "# rc('font',**{'family':'serif','serif':['Times']})\n",
    "rc('text', usetex=True)\n",
    "\n",
    "SMALL_SIZE = 12\n",
    "MEDIUM_SIZE = 14\n",
    "BIGGER_SIZE = 16\n",
    "\n",
    "plt.rc('font', size=SMALL_SIZE)          # controls default text sizes\n",
    "plt.rc('axes', titlesize=SMALL_SIZE)     # fontsize of the axes title\n",
    "plt.rc('axes', labelsize=MEDIUM_SIZE)    # fontsize of the x and y labels\n",
    "plt.rc('xtick', labelsize=SMALL_SIZE)    # fontsize of the tick labels\n",
    "plt.rc('ytick', labelsize=SMALL_SIZE)    # fontsize of the tick labels\n",
    "plt.rc('legend', fontsize=SMALL_SIZE)    # legend fontsize\n",
    "plt.rc('figure', titlesize=BIGGER_SIZE)  # fontsize of the figure title"
   ]
  },
  {
   "cell_type": "markdown",
   "id": "713bf300",
   "metadata": {},
   "source": [
    "**An explainer Jupyter Notebook.** The explainer notebook contains all the behind the scenes data-analysis stuff, details on the dataset, why we've selected these particular visualizations, explanations methodology, etc. The purpose of the explainer notebook is to provide additional details for interested/scientific readers.\n",
    "- The notebook contains our analysis and code. And it is structured it into the following sections: "
   ]
  },
  {
   "cell_type": "markdown",
   "id": "a21571df",
   "metadata": {},
   "source": [
    "1. **Motivation**"
   ]
  },
  {
   "cell_type": "markdown",
   "id": "3c336795",
   "metadata": {},
   "source": [
    "- What is your dataset?\n",
    "    - The significant Earthquake Dataset for the period of 1900–2023 is a thorough database of information on cruical earthquakes that have happened all over the world in the previous 123 years. The National Earthquake Information Center (NEIC)[[1]](https://www.usgs.gov/programs/earthquake-hazards/national-earthquake-information-center-neic) of the U.S. Geological Survey (USGS)[[2]](https://www.usgs.gov/) is responsible for compiling and maintaining this dataset. To give the most precise and current information on earthquake events, it is frequently updated.\n",
    "   - Each entry in the dataset contains information about one of the more than 37,000 earthquakes that took place during this time period, including the earthquake's date, time, location, magnitude, and depth.\n",
    "    - Seismologists, geologists, and other researchers who study earthquakes, as well as emergency management officials and other experts who work in disaster response and preparation, can all benefit from the dataset. The general public can also benefit from using it to learn more about the past of earthquakes and their effects on human societies.\n",
    "    - The datset downloaded from kaggle [[3]](https://www.kaggle.com/datasets/jahaidulislam/significant-earthquake-dataset-1900-2023?resource=download)"
   ]
  },
  {
   "cell_type": "markdown",
   "id": "2691f166",
   "metadata": {},
   "source": [
    "- Why did you choose this/these particular dataset(s)?\n",
    "    - Since the last ice age, there have been numerous large earthquakes, but their observation and effects have not always been felt globally.\n",
    "    - On February 6, Turkey experienced two significant earthquakes close to the Syrian border. Sadly, both were stronger than a 7, and 59,259 people were confirmed dead, with 50,783 of them in Turkey and 8,476 in Syria. It is the fifth-deadliest earthquake in the 21st century and the deadliest earthquake on record since the 2010 Haiti earthquake [[4]](https://en.wikipedia.org/wiki/2010_Haiti_earthquake)and the fifth-deadliest of the 21st century [[5]](https://en.wikipedia.org/wiki/Lists_of_21st-century_earthquakes#List_of_deadliest_earthquakes), according to reports. The fourth-costliest earthquakes on record [[6]](https://en.wikipedia.org/wiki/List_of_costliest_earthquakes) [[7]](https://www.caabu.org/news/article/political-failure-has-killed-people-syria-and-after-earthquakes), the damages were estimated at US dollar 104 billion in Turkey and US dollar 14.8 billion in Syria [[8]](https://www.barrons.com/news/donor-conference-seeks-to-rally-quake-aid-for-turkey-syria-bce11409).\n",
    "    - Since the beginning of time, natural disasters have had a big impact on human lives, frequently leaving a trail of death and destruction in their wake. Despite this, many areas of the world continue to lack the resources needed to implement necessary measures, particularly when it comes to earthquakes. It is for this reason that our project, which focuses on earthquake data analysis, is so intriguing. We intend to analyze the data to determine how changes in social, political, and economic facets of human life have been impacted. This information might aid in efforts made by the international authority to take the necessary steps for the affected communities. Our ultimate objective is to develop a deeper understanding of the social aspects of earthquake data in order to highlight vulnerable communities and communicate potential suggestions of workable solutions for these communities to the rest of the world."
   ]
  },
  {
   "cell_type": "markdown",
   "id": "2866c46a",
   "metadata": {},
   "source": [
    "- What was your goal for the end user's experience?\n",
    "    - The effects of earthquakes on human life in various parts of the world are a particular focus of our project. and seeks to examine the information through the lenses of reporting inequalities and discrepancies, as well as social, political, geographic, financial, and GDP growth in various regions as well as geospatial data. Using an interactive map and graphs, we hope to investigate the effects and effects of earthquake in various parts of the world. To give a more complete picture of the data, these could include a variety of features like population density and comparison on a day-by-day, week-by-week, and month-by-month basis. "
   ]
  },
  {
   "cell_type": "markdown",
   "id": "a8d3d0f8",
   "metadata": {},
   "source": [
    "2. **Basic stats**. Let's understand the dataset better"
   ]
  },
  {
   "cell_type": "code",
   "execution_count": 3,
   "id": "f9da80b7",
   "metadata": {},
   "outputs": [],
   "source": [
    "# Functin to download file from github\n",
    "def file_exist(file_name):\n",
    "    return file_name in os.listdir(os.getcwd())\n",
    "def download_file(url,file_name):\n",
    "    if file_exist(file_name):\n",
    "        return\n",
    "    response = requests.get(url)\n",
    "    open(file_name, \"wb\").write(response.content)"
   ]
  },
  {
   "cell_type": "code",
   "execution_count": 4,
   "id": "eaa9e5fe",
   "metadata": {},
   "outputs": [
    {
     "data": {
      "text/html": [
       "<div>\n",
       "<style scoped>\n",
       "    .dataframe tbody tr th:only-of-type {\n",
       "        vertical-align: middle;\n",
       "    }\n",
       "\n",
       "    .dataframe tbody tr th {\n",
       "        vertical-align: top;\n",
       "    }\n",
       "\n",
       "    .dataframe thead th {\n",
       "        text-align: right;\n",
       "    }\n",
       "</style>\n",
       "<table border=\"1\" class=\"dataframe\">\n",
       "  <thead>\n",
       "    <tr style=\"text-align: right;\">\n",
       "      <th></th>\n",
       "      <th>Time</th>\n",
       "      <th>Place</th>\n",
       "      <th>Latitude</th>\n",
       "      <th>Longitude</th>\n",
       "      <th>Depth</th>\n",
       "      <th>Mag</th>\n",
       "      <th>MagType</th>\n",
       "      <th>nst</th>\n",
       "      <th>gap</th>\n",
       "      <th>dmin</th>\n",
       "      <th>...</th>\n",
       "      <th>Updated</th>\n",
       "      <th>Unnamed: 14</th>\n",
       "      <th>Type</th>\n",
       "      <th>horizontalError</th>\n",
       "      <th>depthError</th>\n",
       "      <th>magError</th>\n",
       "      <th>magNst</th>\n",
       "      <th>status</th>\n",
       "      <th>locationSource</th>\n",
       "      <th>magSource</th>\n",
       "    </tr>\n",
       "  </thead>\n",
       "  <tbody>\n",
       "    <tr>\n",
       "      <th>0</th>\n",
       "      <td>2023-02-17T09:37:34.868Z</td>\n",
       "      <td>130 km SW of Tual, Indonesia</td>\n",
       "      <td>-6.5986</td>\n",
       "      <td>132.0763</td>\n",
       "      <td>38.615</td>\n",
       "      <td>6.1</td>\n",
       "      <td>mww</td>\n",
       "      <td>119.0</td>\n",
       "      <td>51.0</td>\n",
       "      <td>2.988</td>\n",
       "      <td>...</td>\n",
       "      <td>2023-02-17T17:58:24.040Z</td>\n",
       "      <td>NaN</td>\n",
       "      <td>earthquake</td>\n",
       "      <td>6.41</td>\n",
       "      <td>5.595</td>\n",
       "      <td>0.065</td>\n",
       "      <td>23.0</td>\n",
       "      <td>reviewed</td>\n",
       "      <td>us</td>\n",
       "      <td>us</td>\n",
       "    </tr>\n",
       "    <tr>\n",
       "      <th>1</th>\n",
       "      <td>2023-02-16T05:37:05.138Z</td>\n",
       "      <td>7 km SW of Port-Olry, Vanuatu</td>\n",
       "      <td>-15.0912</td>\n",
       "      <td>167.0294</td>\n",
       "      <td>36.029</td>\n",
       "      <td>5.6</td>\n",
       "      <td>mww</td>\n",
       "      <td>81.0</td>\n",
       "      <td>26.0</td>\n",
       "      <td>0.392</td>\n",
       "      <td>...</td>\n",
       "      <td>2023-02-17T05:41:32.448Z</td>\n",
       "      <td>NaN</td>\n",
       "      <td>earthquake</td>\n",
       "      <td>5.99</td>\n",
       "      <td>6.080</td>\n",
       "      <td>0.073</td>\n",
       "      <td>18.0</td>\n",
       "      <td>reviewed</td>\n",
       "      <td>us</td>\n",
       "      <td>us</td>\n",
       "    </tr>\n",
       "    <tr>\n",
       "      <th>2</th>\n",
       "      <td>2023-02-15T18:10:10.060Z</td>\n",
       "      <td>Masbate region, Philippines</td>\n",
       "      <td>12.3238</td>\n",
       "      <td>123.8662</td>\n",
       "      <td>20.088</td>\n",
       "      <td>6.1</td>\n",
       "      <td>mww</td>\n",
       "      <td>148.0</td>\n",
       "      <td>47.0</td>\n",
       "      <td>5.487</td>\n",
       "      <td>...</td>\n",
       "      <td>2023-02-16T20:12:32.595Z</td>\n",
       "      <td>NaN</td>\n",
       "      <td>earthquake</td>\n",
       "      <td>8.61</td>\n",
       "      <td>4.399</td>\n",
       "      <td>0.037</td>\n",
       "      <td>71.0</td>\n",
       "      <td>reviewed</td>\n",
       "      <td>us</td>\n",
       "      <td>us</td>\n",
       "    </tr>\n",
       "    <tr>\n",
       "      <th>3</th>\n",
       "      <td>2023-02-15T06:38:09.034Z</td>\n",
       "      <td>54 km WNW of Otaki, New Zealand</td>\n",
       "      <td>-40.5465</td>\n",
       "      <td>174.5709</td>\n",
       "      <td>74.320</td>\n",
       "      <td>5.7</td>\n",
       "      <td>mww</td>\n",
       "      <td>81.0</td>\n",
       "      <td>40.0</td>\n",
       "      <td>0.768</td>\n",
       "      <td>...</td>\n",
       "      <td>2023-02-16T06:42:09.738Z</td>\n",
       "      <td>NaN</td>\n",
       "      <td>earthquake</td>\n",
       "      <td>3.68</td>\n",
       "      <td>4.922</td>\n",
       "      <td>0.065</td>\n",
       "      <td>23.0</td>\n",
       "      <td>reviewed</td>\n",
       "      <td>us</td>\n",
       "      <td>us</td>\n",
       "    </tr>\n",
       "    <tr>\n",
       "      <th>4</th>\n",
       "      <td>2023-02-14T13:16:51.072Z</td>\n",
       "      <td>2 km NW of Lele?ti, Romania</td>\n",
       "      <td>45.1126</td>\n",
       "      <td>23.1781</td>\n",
       "      <td>10.000</td>\n",
       "      <td>5.6</td>\n",
       "      <td>mww</td>\n",
       "      <td>132.0</td>\n",
       "      <td>28.0</td>\n",
       "      <td>1.197</td>\n",
       "      <td>...</td>\n",
       "      <td>2023-02-17T09:15:18.586Z</td>\n",
       "      <td>NaN</td>\n",
       "      <td>earthquake</td>\n",
       "      <td>4.85</td>\n",
       "      <td>1.794</td>\n",
       "      <td>0.032</td>\n",
       "      <td>95.0</td>\n",
       "      <td>reviewed</td>\n",
       "      <td>us</td>\n",
       "      <td>us</td>\n",
       "    </tr>\n",
       "  </tbody>\n",
       "</table>\n",
       "<p>5 rows × 23 columns</p>\n",
       "</div>"
      ],
      "text/plain": [
       "                       Time                            Place  Latitude  \\\n",
       "0  2023-02-17T09:37:34.868Z     130 km SW of Tual, Indonesia   -6.5986   \n",
       "1  2023-02-16T05:37:05.138Z    7 km SW of Port-Olry, Vanuatu  -15.0912   \n",
       "2  2023-02-15T18:10:10.060Z      Masbate region, Philippines   12.3238   \n",
       "3  2023-02-15T06:38:09.034Z  54 km WNW of Otaki, New Zealand  -40.5465   \n",
       "4  2023-02-14T13:16:51.072Z      2 km NW of Lele?ti, Romania   45.1126   \n",
       "\n",
       "   Longitude   Depth  Mag MagType    nst   gap   dmin  ...  \\\n",
       "0   132.0763  38.615  6.1     mww  119.0  51.0  2.988  ...   \n",
       "1   167.0294  36.029  5.6     mww   81.0  26.0  0.392  ...   \n",
       "2   123.8662  20.088  6.1     mww  148.0  47.0  5.487  ...   \n",
       "3   174.5709  74.320  5.7     mww   81.0  40.0  0.768  ...   \n",
       "4    23.1781  10.000  5.6     mww  132.0  28.0  1.197  ...   \n",
       "\n",
       "                    Updated Unnamed: 14        Type horizontalError  \\\n",
       "0  2023-02-17T17:58:24.040Z         NaN  earthquake            6.41   \n",
       "1  2023-02-17T05:41:32.448Z         NaN  earthquake            5.99   \n",
       "2  2023-02-16T20:12:32.595Z         NaN  earthquake            8.61   \n",
       "3  2023-02-16T06:42:09.738Z         NaN  earthquake            3.68   \n",
       "4  2023-02-17T09:15:18.586Z         NaN  earthquake            4.85   \n",
       "\n",
       "   depthError magError  magNst    status  locationSource  magSource  \n",
       "0       5.595    0.065    23.0  reviewed              us         us  \n",
       "1       6.080    0.073    18.0  reviewed              us         us  \n",
       "2       4.399    0.037    71.0  reviewed              us         us  \n",
       "3       4.922    0.065    23.0  reviewed              us         us  \n",
       "4       1.794    0.032    95.0  reviewed              us         us  \n",
       "\n",
       "[5 rows x 23 columns]"
      ]
     },
     "execution_count": 4,
     "metadata": {},
     "output_type": "execute_result"
    }
   ],
   "source": [
    "# Load the dataset from git\n",
    "url = \"https://raw.githubusercontent.com/sifat-e-noor/Social_visualization/main/Projects/Significant%20Earthquake%20Dataset%201900-2023.csv\"\n",
    "download_file(url,\"SignificantEarthquakeDataset1900-2023.csv\")\n",
    "\n",
    "# Create dataframe\n",
    "df_globalEarthquake = pd.read_csv(\"SignificantEarthquakeDataset1900-2023.csv\")\n",
    "df_globalEarthquake.head(5)"
   ]
  },
  {
   "cell_type": "code",
   "execution_count": 5,
   "id": "b7e27285",
   "metadata": {},
   "outputs": [
    {
     "data": {
      "text/html": [
       "<div>\n",
       "<style scoped>\n",
       "    .dataframe tbody tr th:only-of-type {\n",
       "        vertical-align: middle;\n",
       "    }\n",
       "\n",
       "    .dataframe tbody tr th {\n",
       "        vertical-align: top;\n",
       "    }\n",
       "\n",
       "    .dataframe thead th {\n",
       "        text-align: right;\n",
       "    }\n",
       "</style>\n",
       "<table border=\"1\" class=\"dataframe\">\n",
       "  <thead>\n",
       "    <tr style=\"text-align: right;\">\n",
       "      <th></th>\n",
       "      <th>Latitude</th>\n",
       "      <th>Longitude</th>\n",
       "      <th>Depth</th>\n",
       "      <th>Mag</th>\n",
       "      <th>nst</th>\n",
       "      <th>gap</th>\n",
       "      <th>dmin</th>\n",
       "      <th>rms</th>\n",
       "      <th>Unnamed: 14</th>\n",
       "      <th>horizontalError</th>\n",
       "      <th>depthError</th>\n",
       "      <th>magError</th>\n",
       "      <th>magNst</th>\n",
       "    </tr>\n",
       "  </thead>\n",
       "  <tbody>\n",
       "    <tr>\n",
       "      <th>count</th>\n",
       "      <td>37331.000000</td>\n",
       "      <td>37331.000000</td>\n",
       "      <td>37197.000000</td>\n",
       "      <td>37331.000000</td>\n",
       "      <td>7473.000000</td>\n",
       "      <td>10087.000000</td>\n",
       "      <td>4395.000000</td>\n",
       "      <td>20218.000000</td>\n",
       "      <td>0.0</td>\n",
       "      <td>3970.000000</td>\n",
       "      <td>20827.000000</td>\n",
       "      <td>16551.000000</td>\n",
       "      <td>5372.000000</td>\n",
       "    </tr>\n",
       "    <tr>\n",
       "      <th>mean</th>\n",
       "      <td>5.457651</td>\n",
       "      <td>38.877695</td>\n",
       "      <td>58.583346</td>\n",
       "      <td>5.948616</td>\n",
       "      <td>265.481065</td>\n",
       "      <td>45.014891</td>\n",
       "      <td>4.315178</td>\n",
       "      <td>1.000779</td>\n",
       "      <td>NaN</td>\n",
       "      <td>7.324982</td>\n",
       "      <td>10.679092</td>\n",
       "      <td>0.261882</td>\n",
       "      <td>46.974870</td>\n",
       "    </tr>\n",
       "    <tr>\n",
       "      <th>std</th>\n",
       "      <td>30.789822</td>\n",
       "      <td>123.090934</td>\n",
       "      <td>109.563400</td>\n",
       "      <td>0.455160</td>\n",
       "      <td>161.982149</td>\n",
       "      <td>34.311032</td>\n",
       "      <td>5.480411</td>\n",
       "      <td>0.356822</td>\n",
       "      <td>NaN</td>\n",
       "      <td>5.400729</td>\n",
       "      <td>10.660510</td>\n",
       "      <td>0.169566</td>\n",
       "      <td>60.441745</td>\n",
       "    </tr>\n",
       "    <tr>\n",
       "      <th>min</th>\n",
       "      <td>-77.080000</td>\n",
       "      <td>-179.997000</td>\n",
       "      <td>-4.000000</td>\n",
       "      <td>5.500000</td>\n",
       "      <td>0.000000</td>\n",
       "      <td>8.000000</td>\n",
       "      <td>0.004505</td>\n",
       "      <td>0.005000</td>\n",
       "      <td>NaN</td>\n",
       "      <td>0.085000</td>\n",
       "      <td>0.000000</td>\n",
       "      <td>0.000000</td>\n",
       "      <td>0.000000</td>\n",
       "    </tr>\n",
       "    <tr>\n",
       "      <th>25%</th>\n",
       "      <td>-16.519800</td>\n",
       "      <td>-75.807000</td>\n",
       "      <td>15.000000</td>\n",
       "      <td>5.600000</td>\n",
       "      <td>134.000000</td>\n",
       "      <td>24.100000</td>\n",
       "      <td>1.155000</td>\n",
       "      <td>0.890000</td>\n",
       "      <td>NaN</td>\n",
       "      <td>5.700000</td>\n",
       "      <td>3.600000</td>\n",
       "      <td>0.200000</td>\n",
       "      <td>17.000000</td>\n",
       "    </tr>\n",
       "    <tr>\n",
       "      <th>50%</th>\n",
       "      <td>1.153000</td>\n",
       "      <td>98.577000</td>\n",
       "      <td>28.500000</td>\n",
       "      <td>5.800000</td>\n",
       "      <td>241.000000</td>\n",
       "      <td>36.000000</td>\n",
       "      <td>2.509000</td>\n",
       "      <td>1.000000</td>\n",
       "      <td>NaN</td>\n",
       "      <td>7.100000</td>\n",
       "      <td>6.100000</td>\n",
       "      <td>0.200000</td>\n",
       "      <td>31.000000</td>\n",
       "    </tr>\n",
       "    <tr>\n",
       "      <th>75%</th>\n",
       "      <td>33.786000</td>\n",
       "      <td>143.347850</td>\n",
       "      <td>41.000000</td>\n",
       "      <td>6.140000</td>\n",
       "      <td>372.000000</td>\n",
       "      <td>54.800000</td>\n",
       "      <td>5.127500</td>\n",
       "      <td>1.110000</td>\n",
       "      <td>NaN</td>\n",
       "      <td>8.500000</td>\n",
       "      <td>16.200000</td>\n",
       "      <td>0.330000</td>\n",
       "      <td>55.000000</td>\n",
       "    </tr>\n",
       "    <tr>\n",
       "      <th>max</th>\n",
       "      <td>87.199000</td>\n",
       "      <td>180.000000</td>\n",
       "      <td>700.000000</td>\n",
       "      <td>9.500000</td>\n",
       "      <td>934.000000</td>\n",
       "      <td>360.000000</td>\n",
       "      <td>39.730000</td>\n",
       "      <td>42.410000</td>\n",
       "      <td>NaN</td>\n",
       "      <td>99.000000</td>\n",
       "      <td>569.200000</td>\n",
       "      <td>1.840000</td>\n",
       "      <td>941.000000</td>\n",
       "    </tr>\n",
       "  </tbody>\n",
       "</table>\n",
       "</div>"
      ],
      "text/plain": [
       "           Latitude     Longitude         Depth           Mag          nst  \\\n",
       "count  37331.000000  37331.000000  37197.000000  37331.000000  7473.000000   \n",
       "mean       5.457651     38.877695     58.583346      5.948616   265.481065   \n",
       "std       30.789822    123.090934    109.563400      0.455160   161.982149   \n",
       "min      -77.080000   -179.997000     -4.000000      5.500000     0.000000   \n",
       "25%      -16.519800    -75.807000     15.000000      5.600000   134.000000   \n",
       "50%        1.153000     98.577000     28.500000      5.800000   241.000000   \n",
       "75%       33.786000    143.347850     41.000000      6.140000   372.000000   \n",
       "max       87.199000    180.000000    700.000000      9.500000   934.000000   \n",
       "\n",
       "                gap         dmin           rms  Unnamed: 14  horizontalError  \\\n",
       "count  10087.000000  4395.000000  20218.000000          0.0      3970.000000   \n",
       "mean      45.014891     4.315178      1.000779          NaN         7.324982   \n",
       "std       34.311032     5.480411      0.356822          NaN         5.400729   \n",
       "min        8.000000     0.004505      0.005000          NaN         0.085000   \n",
       "25%       24.100000     1.155000      0.890000          NaN         5.700000   \n",
       "50%       36.000000     2.509000      1.000000          NaN         7.100000   \n",
       "75%       54.800000     5.127500      1.110000          NaN         8.500000   \n",
       "max      360.000000    39.730000     42.410000          NaN        99.000000   \n",
       "\n",
       "         depthError      magError       magNst  \n",
       "count  20827.000000  16551.000000  5372.000000  \n",
       "mean      10.679092      0.261882    46.974870  \n",
       "std       10.660510      0.169566    60.441745  \n",
       "min        0.000000      0.000000     0.000000  \n",
       "25%        3.600000      0.200000    17.000000  \n",
       "50%        6.100000      0.200000    31.000000  \n",
       "75%       16.200000      0.330000    55.000000  \n",
       "max      569.200000      1.840000   941.000000  "
      ]
     },
     "execution_count": 5,
     "metadata": {},
     "output_type": "execute_result"
    }
   ],
   "source": [
    "df_globalEarthquake.describe()"
   ]
  },
  {
   "cell_type": "markdown",
   "id": "fab24410",
   "metadata": {},
   "source": [
    "- Write about your choices in data cleaning and preprocessing\n",
    "\n",
    "  - **Data cleaning and preprocessing:**\n",
    "    - Checking for missing values in the dataset is the first step in data cleaning and preprocessing."
   ]
  },
  {
   "cell_type": "code",
   "execution_count": 6,
   "id": "5f639d2f",
   "metadata": {},
   "outputs": [
    {
     "name": "stdout",
     "output_type": "stream",
     "text": [
      "Follwing Columns have missing values:\n"
     ]
    },
    {
     "data": {
      "text/plain": [
       "Time                   0\n",
       "Place                284\n",
       "Latitude               0\n",
       "Longitude              0\n",
       "Depth                134\n",
       "Mag                    0\n",
       "MagType                0\n",
       "nst                29858\n",
       "gap                27244\n",
       "dmin               32936\n",
       "rms                17113\n",
       "net                    0\n",
       "ID                     0\n",
       "Updated                0\n",
       "Unnamed: 14        37331\n",
       "Type                   0\n",
       "horizontalError    33361\n",
       "depthError         16504\n",
       "magError           20780\n",
       "magNst             31959\n",
       "status                 0\n",
       "locationSource         0\n",
       "magSource              0\n",
       "dtype: int64"
      ]
     },
     "execution_count": 6,
     "metadata": {},
     "output_type": "execute_result"
    }
   ],
   "source": [
    "# Find dataset's overall missing values per columns\n",
    "print('Follwing Columns have missing values:')\n",
    "df_globalEarthquake.isnull().sum()"
   ]
  },
  {
   "cell_type": "code",
   "execution_count": 7,
   "id": "73e2ccbe",
   "metadata": {},
   "outputs": [
    {
     "data": {
      "text/plain": [
       "Time                 0.000000\n",
       "Place                0.760762\n",
       "Latitude             0.000000\n",
       "Longitude            0.000000\n",
       "Depth                0.358951\n",
       "Mag                  0.000000\n",
       "MagType              0.000000\n",
       "nst                 79.981785\n",
       "gap                 72.979561\n",
       "dmin                88.226943\n",
       "rms                 45.841258\n",
       "net                  0.000000\n",
       "ID                   0.000000\n",
       "Updated              0.000000\n",
       "Unnamed: 14        100.000000\n",
       "Type                 0.000000\n",
       "horizontalError     89.365407\n",
       "depthError          44.209906\n",
       "magError            55.664193\n",
       "magNst              85.609815\n",
       "status               0.000000\n",
       "locationSource       0.000000\n",
       "magSource            0.000000\n",
       "dtype: float64"
      ]
     },
     "execution_count": 7,
     "metadata": {},
     "output_type": "execute_result"
    }
   ],
   "source": [
    "# Clone dataframe for dataset cleaning and preproceesing\n",
    "df_clean = df_globalEarthquake.copy()\n",
    "\n",
    "# Check subtly for the missing values in cloumns \n",
    "df_clean.isnull().sum()/df_globalEarthquake.shape[0]*100"
   ]
  },
  {
   "cell_type": "code",
   "execution_count": 8,
   "id": "09212646",
   "metadata": {},
   "outputs": [],
   "source": [
    "# Drop all the null values that are more than 40% in the columns \n",
    "Entire_df_clean = (df_clean.isnull().sum()/df_globalEarthquake.shape[0]*100)\n",
    "RequirePerct_df_clean =(df_clean.isnull().sum()/df_globalEarthquake.shape[0]*100)>40\n",
    "unwantedColumnsName = Entire_df_clean[RequirePerct_df_clean].index\n",
    "df_clean = df_clean.drop(columns=unwantedColumnsName)"
   ]
  },
  {
   "cell_type": "code",
   "execution_count": null,
   "id": "0ea1d681",
   "metadata": {},
   "outputs": [],
   "source": [
    "# def country_name(lat,lot):\n",
    "#     geolocator = Nominatim(user_agent=\"foo_bar\")\n",
    "#     coordinates = (lat,lot)\n",
    "#     location = geolocator.reverse(coordinates)\n",
    "    \n",
    "# #     country = location.split(',')[-1]\n",
    "#     return location\n",
    "\n",
    "# newdf_clean['Country'] = df_clean.apply(lambda x: country_name(x.Latitude, x.Longitude), axis=1)"
   ]
  },
  {
   "cell_type": "code",
   "execution_count": null,
   "id": "7b8e3943",
   "metadata": {},
   "outputs": [],
   "source": [
    "# newdf_clean"
   ]
  },
  {
   "cell_type": "code",
   "execution_count": null,
   "id": "932b76fa",
   "metadata": {},
   "outputs": [],
   "source": [
    "# Convert Place coulmn's value into string\n",
    "df_clean['Place'] = df_clean['Place'].apply(str)\n",
    "\n",
    "# Derive Country name from Place column and create Country column\n",
    "def place_name(place_name):\n",
    "    return place_name.split()[-1].strip()    \n",
    "\n",
    "df_clean['Country'] = df_clean['Place'].apply(place_name)\n",
    "\n",
    "# Reordering columns\n",
    "cols = list(df_clean.columns)\n",
    "cols.insert(2, cols.pop(cols.index('Country')))\n",
    "df_clean = df_clean[cols]\n",
    "\n",
    "# Replace Nan value in Depth column with 0.0\n",
    "df_clean[\"Depth\"] = df_clean[\"Depth\"].fillna(0.0)"
   ]
  },
  {
   "cell_type": "code",
   "execution_count": null,
   "id": "98eb236e",
   "metadata": {},
   "outputs": [],
   "source": [
    "# Rename Time column into Datetime\n",
    "df_clean.rename(columns = {'Time':'Datetime'}, inplace = True)\n",
    "\n",
    "# Find unique values of Magnitude column \n",
    "print(f'Magnitude column has: {len(df_clean.Mag.unique())} data')\n",
    "# print(\"Unique values of \"'mag(Magnitude)'\" column are:\")\n",
    "# df_clean.Mag.unique()"
   ]
  },
  {
   "cell_type": "code",
   "execution_count": null,
   "id": "ba15e04a",
   "metadata": {},
   "outputs": [],
   "source": [
    "# Convert Datetime column into datetime format and derive Year, Month, Date, Day, Time, and Hour  for further analysis\n",
    "# Convert Mag columns data into round value for further analysis\n",
    "df_clean['Datetime'] = pd.to_datetime(df_clean['Datetime'], infer_datetime_format=True)\n",
    "df_clean['Date'] = df_clean['Datetime'].dt.date\n",
    "df_clean['Year'] = df_clean['Datetime'].dt.year\n",
    "df_clean['Month'] = df_clean['Datetime'].dt.month_name() \n",
    "df_clean['Day'] = df_clean['Datetime'].dt.day_name()\n",
    "df_clean['Time'] = df_clean['Datetime'].dt.time\n",
    "df_clean['Hour'] = df_clean['Datetime'].dt.hour\n",
    "df_clean['Mag_round'] = df_clean['Mag'].round()"
   ]
  },
  {
   "cell_type": "code",
   "execution_count": null,
   "id": "463be0d3",
   "metadata": {},
   "outputs": [],
   "source": [
    "# Derive only time in hour:minute:seconds from \n",
    "def time(Time):\n",
    "    Timezone_remove = Time.replace(tzinfo=None)\n",
    "    return Timezone_remove.replace(microsecond=0)\n",
    "    \n",
    "df_clean['Time'] = df_clean['Time'].apply(time)"
   ]
  },
  {
   "cell_type": "code",
   "execution_count": null,
   "id": "534a9a46",
   "metadata": {},
   "outputs": [],
   "source": [
    "# Reordering columns\n",
    "cols = list(df_clean.columns)\n",
    "cols.insert(2, cols.pop(cols.index('Country')))\n",
    "cols.insert(3, cols.pop(cols.index('Year')))\n",
    "cols.insert(4, cols.pop(cols.index('Month')))\n",
    "cols.insert(5, cols.pop(cols.index('Date')))\n",
    "cols.insert(6, cols.pop(cols.index('Time')))\n",
    "cols.insert(7, cols.pop(cols.index('Hour')))\n",
    "df_clean = df_clean[cols]"
   ]
  },
  {
   "cell_type": "code",
   "execution_count": null,
   "id": "b2648793",
   "metadata": {},
   "outputs": [],
   "source": [
    "# Save data set to .csv format\n",
    "# df_clean.to_csv('SignificantEarthquake_cleandataset1900-2023.csv')\n",
    "\n",
    "df_clean.head(3)"
   ]
  },
  {
   "cell_type": "code",
   "execution_count": null,
   "id": "d89d18e4",
   "metadata": {},
   "outputs": [],
   "source": [
    "# View dataset's per columns overall basic info\n",
    "print('Basic info of dataset:\\n') \n",
    "df_clean.info()\n",
    "print('\\n')\n",
    "# Find dataset's overall missing values per columns\n",
    "print('Follwing Columns have missing values:')\n",
    "df_clean.isnull().sum()"
   ]
  },
  {
   "cell_type": "markdown",
   "id": "57baa773",
   "metadata": {},
   "source": [
    "- Write a short section that discusses the dataset stats, containing key points/plots from your exploratory data analysis.\n",
    "  - __A brief part of data analysis:__\n",
    "    - Let's begin by examining the dataset to gain a general understanding of the patterns and trends in the earthquakes."
   ]
  },
  {
   "cell_type": "code",
   "execution_count": null,
   "id": "1c60c0d0",
   "metadata": {},
   "outputs": [],
   "source": [
    "# Describe the dataset stats\n",
    "df_clean.describe()"
   ]
  },
  {
   "cell_type": "markdown",
   "id": "94dbb87b",
   "metadata": {},
   "source": [
    "- The minimum magnitude recorded is 5.5, and the maximum is 9.5, as shown in the table above.\n",
    "- The depth and magnitude of the earthquakes are on average 58.37 km and 5.94 respectively."
   ]
  },
  {
   "cell_type": "markdown",
   "id": "c59b037c",
   "metadata": {},
   "source": [
    "3. **Data Analysis**\n",
    " - Let's look at the annual number of earthquakes."
   ]
  },
  {
   "cell_type": "code",
   "execution_count": null,
   "id": "42b8c831",
   "metadata": {},
   "outputs": [],
   "source": [
    "# Clone dataset to compare daterange of the earthquake in the given dataset\n",
    "df_clean1 = df_clean.copy()\n",
    "df_clean1['Year'] = pd.DatetimeIndex(df_clean['Datetime']).year\n",
    "yearly_earthquakes = df_clean1.groupby('Year').count()['ID'].reset_index()\n",
    "\n",
    "df_clean2 = df_clean.copy()\n",
    "df_clean2['Year'] = pd.DatetimeIndex(df_clean['Updated']).year\n",
    "yearly_earthquakesUpadted = df_clean2.groupby('Year').count()['ID'].reset_index()"
   ]
  },
  {
   "cell_type": "code",
   "execution_count": null,
   "id": "76639e65",
   "metadata": {},
   "outputs": [],
   "source": [
    "# Now, let's plot the number of earthquakes per year\n",
    "TOOLS = 'save,pan,box_zoom,reset,wheel_zoom,hover'\n",
    "p = figure(title=\"Number of earthquakes per year\", y_axis_type=\"linear\", plot_height = 500,\n",
    "           tools = TOOLS, plot_width = 950) # Year-wise total number of earthquakes\n",
    "p.xaxis.axis_label = 'Year'\n",
    "p.yaxis.axis_label = 'Total Earthquakes'\n",
    "p.yaxis.axis_label_text_font_size = \"13px\"\n",
    "p.xaxis.axis_label_text_font_size = \"13px\"\n",
    "p.yaxis.axis_label_text_font_style = \"normal\"\n",
    "p.xaxis.axis_label_text_font_style = \"normal\"\n",
    "p.yaxis.axis_label_text_font = \"helvetica\"\n",
    "p.xaxis.axis_label_text_font = \"helvetica\"\n",
    "p.circle(1900, yearly_earthquakes.ID.min(), size = 10, color = 'green')\n",
    "p.circle(2011, yearly_earthquakes.ID.max(), size = 10, color = 'red')\n",
    "\n",
    "p.line(yearly_earthquakes.Year, yearly_earthquakes.ID, line_color=\"#9c9ede\", line_width = 2)\n",
    "p.select_one(HoverTool).tooltips = [\n",
    "    ('Year', '@x'),\n",
    "    ('Number of ocuurences', '@y'),\n",
    "]\n",
    "\n",
    "# output_notebook()\n",
    "# output_file(\"line_chart.html\", title=\"Line Chart\")\n",
    "# show(p)"
   ]
  },
  {
   "cell_type": "code",
   "execution_count": null,
   "id": "9e16798b",
   "metadata": {},
   "outputs": [],
   "source": [
    "p1 = figure(title=\"Number of earthquakes per year\", y_axis_type=\"linear\", plot_height = 500,\n",
    "           tools = TOOLS, plot_width = 950) # Year-wise total number of earthquakes\n",
    "p1.xaxis.axis_label = 'Year'\n",
    "p1.yaxis.axis_label = 'Total Earthquakes'\n",
    "p1.yaxis.axis_label_text_font_size = \"13px\"\n",
    "p1.xaxis.axis_label_text_font_size = \"13px\"\n",
    "p1.yaxis.axis_label_text_font_style = \"normal\"\n",
    "p1.xaxis.axis_label_text_font_style = \"normal\"\n",
    "p1.yaxis.axis_label_text_font = \"helvetica\"\n",
    "p1.xaxis.axis_label_text_font = \"helvetica\"\n",
    "p1.circle(2013, yearly_earthquakesUpadted.ID.min(), size = 10, color = 'green')\n",
    "p1.circle(2022, yearly_earthquakesUpadted.ID.max(), size = 10, color = 'red')\n",
    "\n",
    "p1.line(yearly_earthquakesUpadted.Year, yearly_earthquakesUpadted.ID, line_color=\"#9c9ede\", line_width = 2)\n",
    "p1.select_one(HoverTool).tooltips = [\n",
    "    ('Year', '@x'),\n",
    "    ('Number of ocuurences', '@y'),\n",
    "]"
   ]
  },
  {
   "cell_type": "code",
   "execution_count": null,
   "id": "d6037afa",
   "metadata": {},
   "outputs": [],
   "source": [
    "#Tabbed layout\n",
    "# Use p and p1 that are created at above\n",
    "tab1 = Panel(child = p,title = \"Earthquakes from: 1900-2023\")\n",
    "tab2 = Panel(child = p1,title = \"Earthquakes from: 2013-2023\")\n",
    "tabs = Tabs(tabs=[tab1,tab2])\n",
    "output_notebook()\n",
    "show(tabs)\n",
    "\n",
    "# output_file(\"tabs_line_chart.html\", title=\"Tabs Line Chart\")"
   ]
  },
  {
   "cell_type": "code",
   "execution_count": null,
   "id": "eebbf715",
   "metadata": {},
   "outputs": [],
   "source": []
  },
  {
   "cell_type": "code",
   "execution_count": null,
   "id": "412f6e60",
   "metadata": {},
   "outputs": [],
   "source": [
    "# Now, let's plot the magnitudes of the earthquakes per year\n",
    "sns.set_style(\"whitegrid\")\n",
    "\n",
    "# color = dict(boxes='DarkGreen', whiskers='DarkOrange',medians='DarkBlue', caps='Gray')\n",
    "mag = sns.boxplot(x = 'Year', y = 'Mag', data = df_clean1, fliersize=1, whis=.8, palette='light:#5A9', saturation=0.5, linewidth=.5 , width=0.5)\n",
    "mag.tick_params(axis='x', labelrotation=90)\n",
    "mag.tick_params(axis='y',labelsize=10)\n",
    "mag.tick_params(axis='x',labelsize=7)\n",
    "mag.set_title(\"Year-wise Magnitude of earthquakes from 1900-2023\",fontdict={'size': 13, 'weight': 'bold'})\n",
    "plt.xlabel('Year', fontsize=12)\n",
    "plt.ylabel('Magnitude', fontsize=12)\n",
    "plt.show()"
   ]
  },
  {
   "cell_type": "code",
   "execution_count": null,
   "id": "55a29709",
   "metadata": {
    "scrolled": false
   },
   "outputs": [],
   "source": [
    "# # Now, let's plot the Depth of the earthquakes per year \n",
    "hover = HoverTool(tooltips = [(\"Year\",\"@Year\"),(\"Depth:\",\"@Depth\"),(\"Mag:\",\"@Mag\")], mode=\"hline\")\n",
    "plot = figure(title=\"Year-wise Depth of earthquakes from 1900-2023\", tools=[hover,\"crosshair\"], plot_width = 950)\n",
    "plot.circle(x= \"Year\",y = \"Depth\",source=df_clean1,color =\"lavender\",hover_color =\"red\")\n",
    "plot.xaxis.axis_label = 'Year'\n",
    "plot.yaxis.axis_label = 'Depth of Earthquakes'\n",
    "plot.yaxis.axis_label_text_font_size = \"13px\"\n",
    "plot.xaxis.axis_label_text_font_size = \"13px\"\n",
    "plot.yaxis.axis_label_text_font_style = \"normal\"\n",
    "plot.xaxis.axis_label_text_font_style = \"normal\"\n",
    "plot.yaxis.axis_label_text_font = \"helvetica\"\n",
    "plot.xaxis.axis_label_text_font = \"helvetica\"\n",
    "show(plot)"
   ]
  },
  {
   "cell_type": "code",
   "execution_count": null,
   "id": "8d69c494",
   "metadata": {},
   "outputs": [],
   "source": [
    "# Use data for the period 2000-2023 for further analysis\n",
    "focusedYear_df = df_clean1.loc[(df_clean1.Year >= 2010) & (df_clean1.Year <= 2023)]"
   ]
  },
  {
   "cell_type": "code",
   "execution_count": null,
   "id": "3edefb86",
   "metadata": {},
   "outputs": [],
   "source": [
    "mask1 = ['Year', 'Mag', \"Latitude\", \"Longitude\", 'Place', 'Depth', 'Country', \"locationSource\", \"magSource\", \"ID\",'Mag_round']\n",
    "place_dfmag = focusedYear_df.sort_values('Mag', ascending=False)[mask1]\n",
    "place_dfmag.head(50)"
   ]
  },
  {
   "cell_type": "code",
   "execution_count": null,
   "id": "5420dd9e",
   "metadata": {},
   "outputs": [],
   "source": [
    "place_dfdep = focusedYear_df.sort_values('Depth', ascending=False)[mask1]\n",
    "# place_dfdep.head(30)"
   ]
  },
  {
   "cell_type": "code",
   "execution_count": null,
   "id": "43830227",
   "metadata": {},
   "outputs": [],
   "source": [
    "# Mask place_dfMag\n",
    "mask1 = ['Year', 'Mag', \"Latitude\", \"Longitude\", 'Place', 'Depth', 'Country', \"locationSource\", \"magSource\", \"ID\",'Mag_round']\n",
    "place_df = focusedYear_df.sort_values('Year', ascending=True)[mask1]"
   ]
  },
  {
   "cell_type": "code",
   "execution_count": null,
   "id": "6d5afb9e",
   "metadata": {},
   "outputs": [],
   "source": [
    "import plotly.express as px\n",
    "fig = px.scatter_geo(place_df, lat='Latitude',lon='Longitude', color=\"Mag\",\n",
    "                     hover_name=\"Country\", hover_data=[\"Place\", \"Year\", \"Mag\", \"Depth\", \"locationSource\", \"magSource\"], size=\"Depth\",\n",
    "                     animation_frame=\"Year\",\n",
    "                     projection=\"natural earth\")\n",
    "fig.update_layout(title = 'High Magnitudes and Deepest Earthquakes around the world: 2013-2023', title_x=0.5)\n",
    "fig.show()"
   ]
  },
  {
   "cell_type": "markdown",
   "id": "111fb9d7",
   "metadata": {},
   "source": [
    "- Describe your data analysis and explain what you've learned about the dataset.\n",
    "    - __The dataset has the following characteristicst:__\n",
    "      - Date: The date of the earthquake in YYYY-MM-DD format.\n",
    "      - Time: The time of the earthquake in HH:MM:SS format.\n",
    "      - Latitude: The location of the earthquake's epicenter.\n",
    "      - Longitude: The location of the earthquake's epicenter.\n",
    "      - A seismic event's type, such as \"earthquake,\" \"nuclear explosion,\" \"explosion,\" or \"rockburst,\" is indicated by the word \"type.\"\n",
    "      - The earthquake's depth, measured in kilometers.\n",
    "      - The Richter scale's measurement of the earthquake's magnitude.\n",
    "      - Magnitude ML stands for local magnitude, Mw for moment magnitude, and Ms for surface wave magnitude, among other types of magnitude measurements.\n",
    "      - ID: A number that distinguishes each earthquake event.\n",
    " \n",
    "  - We looked at the Significant Earthquake Database from 1900 to 2023 in this notebook. To better understand the data, we loaded the dataset into the notebook, explored the information, and made visualizations. We discovered that the majority of earthquakes range in magnitude from 4 to 6, and that the annual number of earthquakes has grown over time. Additionally, we discovered that the Pacific Ring of Fire, a region with high seismic activity, is where the majority of earthquakes take place. Overall, the dataset contains a wealth of data about earthquakes, and with additional analysis, we can draw additional conclusions from the data."
   ]
  },
  {
   "cell_type": "markdown",
   "id": "904ab6d7",
   "metadata": {},
   "source": [
    "- If relevant, talk about your machine-learning\n",
    "  - We mainly focused on humanizing data visualization, therefore reasoning and analyzing behind the scenes of the events require more analysis and research compared to implementing a machine learning model, thus ML was non-relevant for this way of approach to data story telling.   "
   ]
  },
  {
   "cell_type": "markdown",
   "id": "2f71093b",
   "metadata": {},
   "source": [
    "4. **Genre**. Which genre of data story did you use?\n",
    "- We aim to do magazine style narrative storytelling of our data. Our aim it to have an author driven magazine style, as we want to take the user through our exploration of the data linearly to finally towards the end present our key findings. So that the storytelling is controlled, and we control the messaging. However, as we aim to have interactivity through maps. We ultimately, is gonna have a hybrid approach. As the interactivity would be a reader-driven element\n",
    "\n",
    "- We believe this genre is the best way to communicate it, because we through this genre humanize the data and makes it more relatable, which is important for topics such as natural disasters that have significant impact on people’s lives. Then magazine-style also provides the importunity to include interactivity, which helps our story to be more appealing to the reader as the reader is in engaging with the story."
   ]
  },
  {
   "cell_type": "code",
   "execution_count": null,
   "id": "53a479d5",
   "metadata": {},
   "outputs": [],
   "source": []
  },
  {
   "cell_type": "markdown",
   "id": "f8a5a91f",
   "metadata": {},
   "source": [
    "- Which tools did you use from each of the 3 categories of Visual Narrative (Figure 7 in Segal and Heer). Why?\n",
    "\n",
    "Visual Narrative(we have to pick any from every section)\n",
    "\n",
    "**Visual Structuring:Section1**\n",
    "- Establishing Shot / Splash Screen\n",
    "- Consistent Visual Platform\n",
    "- Progress Bar / Timebar\n",
    "- \"Checklist\" Progresss Tracker\n",
    "\n",
    "**Highlighting:Section2**\n",
    "- Close-Ups\n",
    "- Feature Distinction\n",
    "- Character Direction\n",
    "- Motion\n",
    "- Audio\n",
    "- Zooming\n",
    "\n",
    "**Transition Guidance:Section3**\n",
    "- Familiar Objects (but still cuts)\n",
    "- Viewing Angle\n",
    "- Viewer (Camera) Motion\n",
    "- Continuity Editing\n",
    "- Object Continuity\n",
    "- Animated Transitions"
   ]
  },
  {
   "cell_type": "markdown",
   "id": "7dc3a972",
   "metadata": {},
   "source": [
    "- Which tools did you use from each of the 3 categories of Narrative Structure (Figure 7 in Segal and Heer). Why?\n",
    "\n",
    "Narrative Structure(we have to pick any one section)\n",
    "\n",
    "**Ordering:Section1**\n",
    "- Random Access\n",
    "- User Directed Path\n",
    "- Linear\n",
    "\n",
    "**Interactivity:Section2**\n",
    "- Hover Highlighting / Details\n",
    "- Filtering / Selection / Search\n",
    "- Navigation Buttons\n",
    "- Very Limited Interactivity\n",
    "- Explicit Instruction\n",
    "- Tacit Tutorial\n",
    "- Stimulating Default Views\n",
    "\n",
    "**Messaging:Section3**\n",
    "- Captions / Headlines\n",
    "- Annotations\n",
    "- Accompanying Article\n",
    "- Multi-Messaging\n",
    "- Comment Repitition\n",
    "- Introductory Text\n",
    "- Summary / Synthesis"
   ]
  },
  {
   "cell_type": "code",
   "execution_count": null,
   "id": "c44bf9f9",
   "metadata": {
    "scrolled": true
   },
   "outputs": [],
   "source": [
    "focusedYearCountry_df = df_clean1.loc[(df_clean1.Year >= 2010) & (df_clean1.Year <= 2023) & (df_clean1.Country.isin([\"Turkey\",\"Indonesia\",\"Japan\",\"India\",\"Haiti\",'Chile', 'Colombia','Italy', \"Syria\"]))]"
   ]
  },
  {
   "cell_type": "code",
   "execution_count": null,
   "id": "1f3c799d",
   "metadata": {},
   "outputs": [],
   "source": [
    "focusedYearCountry_df.head(2)"
   ]
  },
  {
   "cell_type": "code",
   "execution_count": null,
   "id": "cfaf9062",
   "metadata": {},
   "outputs": [],
   "source": [
    "mask2 = ['Year', 'Country', \"ID\"]\n",
    "vbar_df = focusedYearCountry_df.sort_values('Year', ascending=True)[mask2]"
   ]
  },
  {
   "cell_type": "code",
   "execution_count": null,
   "id": "0578456d",
   "metadata": {},
   "outputs": [],
   "source": [
    "def idchange(id):\n",
    "    return 1\n",
    "\n",
    "vbar_df['abc']=vbar_df['ID'].apply(idchange)"
   ]
  },
  {
   "cell_type": "code",
   "execution_count": null,
   "id": "413cc327",
   "metadata": {},
   "outputs": [],
   "source": [
    "vbartemp_df = vbar_df.groupby(['Country', 'Year'])['abc'].size().reset_index(name='Earthquakes')\n",
    "vbartemp_df = vbartemp_df.pivot(index='Year', columns='Country', values='Earthquakes').reset_index()\n",
    "\n",
    "vbartemp_df2 = vbartemp_df.fillna(1.0)\n",
    "# vbartemp_df2"
   ]
  },
  {
   "cell_type": "code",
   "execution_count": null,
   "id": "ff0018dd",
   "metadata": {},
   "outputs": [],
   "source": [
    "TOOLS = \"save,pan,box_zoom,reset,wheel_zoom,tap\"\n",
    "cats = [\"Turkey\",\"Indonesia\",\"Japan\",\"India\",\"Haiti\",'Chile', 'Colombia','Italy',\"Syria\"]\n",
    "source = ColumnDataSource(data=vbartemp_df2)\n",
    "q = figure(plot_width=640, plot_height=600, title=\"Country wise count of earthquakes by year\",toolbar_location='above', tools=TOOLS, tooltips=\"$name @Year: @$name\")\n",
    "\n",
    "colors = Category20[9]\n",
    "\n",
    "q.vbar_stack(cats, x='Year', width=0.5, color=colors, source=source,\n",
    "             legend_label=[x for x in cats])\n",
    "\n",
    "q.y_range.start = 0\n",
    "q.x_range.range_padding = 0.1\n",
    "q.xgrid.grid_line_color = None\n",
    "q.axis.minor_tick_line_color = None\n",
    "q.outline_line_color = None\n",
    "q.xaxis.axis_label = 'Year'\n",
    "q.yaxis.axis_label = 'Earthquakes'\n",
    "q.legend.location = \"top_left\"\n",
    "q.legend.orientation = \"horizontal\"\n",
    "\n",
    "output_notebook()\n",
    "# output_file(\"stacked_bar.html\", title=\"Stacked Bar Chart\")\n",
    "\n",
    "# set output to static HTML file\n",
    "output_file(\"boekh_Viz_Country.html\")\n",
    "# save(q)"
   ]
  },
  {
   "cell_type": "code",
   "execution_count": null,
   "id": "f3f070a6",
   "metadata": {},
   "outputs": [],
   "source": [
    "# Create bar-charts displaying the week-day, the months, the 24-hour cycle, and the 168 hours of the week development of each of these categories\n",
    "focuscountries = set([\"Turkey\",\"Indonesia\",\"Japan\",\"India\",\"Haiti\",'Chile', 'Colombia','Italy'])\n",
    "focuscountries = sorted(list(focuscountries))"
   ]
  },
  {
   "cell_type": "code",
   "execution_count": null,
   "id": "9c73a453",
   "metadata": {},
   "outputs": [],
   "source": [
    "x = [\"Monday\", \"Tuesday\", \"Wednesday\", \"Thursday\", \"Friday\", \"Saturday\", \"Sunday\"]\n",
    "\n",
    "# Create the bar subplots for week-day of focuscrimes\n",
    "fig, axes = plt.subplots(nrows=4,ncols=2,sharex=True)\n",
    "# sns.set(font_scale=1)\n",
    "for i in range(len(focuscountries)):\n",
    "    country = focuscountries[i]\n",
    "    df_eachCrime = focusedYearCountry_df.loc[(focusedYearCountry_df['Country'] == country)].Day.value_counts().reindex(index=x)\n",
    "    df_eachCrime.plot(ax= axes[i//2,i%2] ,kind='bar', figsize = (12, 7),grid=False, color ='lavender', edgecolor = \"indigo\")\n",
    "    ylim_max= df_eachCrime.max()\n",
    "    axes[i//2,i%2].set_title(country, loc='left', y=.8, x=.05)\n",
    "    # Setting the number of ticks\n",
    "    axes[i//2,i%2].locator_params(axis='y',tight=True, nbins=6)\n",
    "    axes[i//2,i%2].set_ylabel(\"Earquake count\", labelpad=7)\n",
    "    axes[i//2,i%2].set_ylim(0,ylim_max*1.5)\n",
    "    if i//2 == 6:\n",
    "        axes[i//2,i%2].set_xlabel(\"Day of week\", labelpad=7)\n",
    "\n",
    "plt.suptitle(\"No. of earthquakes per week-day by country\", y=1)\n",
    "fig.align_ylabels(axes[:, ])\n",
    "plt.tight_layout()\n",
    "plt.show()"
   ]
  },
  {
   "cell_type": "code",
   "execution_count": null,
   "id": "db878f2d",
   "metadata": {},
   "outputs": [],
   "source": [
    "focusedYearCountry_df.Month.value_counts()"
   ]
  },
  {
   "cell_type": "code",
   "execution_count": null,
   "id": "1e534df0",
   "metadata": {},
   "outputs": [],
   "source": [
    "mask3 = ['Hour', 'Country', \"ID\"]\n",
    "gbar_df = focusedYearCountry_df.sort_values('Hour', ascending=True)[mask3]\n",
    "\n",
    "def idchange(id):\n",
    "    return 1\n",
    "\n",
    "gbar_df['abc']=gbar_df['ID'].apply(idchange)\n",
    "\n",
    "gbartemp_df = gbar_df.groupby(['Country', 'Hour'])['abc'].size().reset_index(name='Earthquakes')\n",
    "gbartemp_df = gbartemp_df.pivot(index='Hour', columns='Country', values='Earthquakes')\n",
    "\n",
    "gbartemp_df2 = gbartemp_df.fillna(1.0)\n",
    "gbartemp_df2"
   ]
  },
  {
   "cell_type": "code",
   "execution_count": null,
   "id": "a7c1d8fc",
   "metadata": {},
   "outputs": [],
   "source": [
    "hours = ['1', '2', '3','4','5','6','7','8','9','10','11','12','13','14','15','16','17','18','19','20','21','22','23','24']"
   ]
  },
  {
   "cell_type": "code",
   "execution_count": null,
   "id": "6a26c870",
   "metadata": {},
   "outputs": [],
   "source": [
    "# # output_file(\"boekh_Viz_Line.html\")\n",
    "\n",
    "# source = ColumnDataSource(gbartemp_df2)\n",
    "# output_notebook()\n",
    "# colors = Category20[14]\n",
    "# p = figure(x_range=FactorRange(factors=hours),width=640, height=260, title=\"Crimes per hour\",\n",
    "#            toolbar_location=None)\n",
    "# #950,600\n",
    "# #620,260\n",
    "# bar = { } # to store vbars\n",
    "# items = [] ### for the custom legend // you need to figure out where to add it\n",
    "# ### here we will do a for loop:\n",
    "# for indx,i in enumerate(focuscountries):   \n",
    "#     bar[i] = p.line(x=gbartemp_df2.index.name, y=i, source= source,alpha=1, muted_alpha=0.2, line_color=colors[indx],line_width=2)\n",
    "#     items.append((i, [bar[i]])) ### figure where to add it\n",
    "#     hover = HoverTool(tooltips=[\n",
    "#         (\"%s\" % i , \"@{%s}\" % i)\n",
    "#     ], renderers=[bar[i]])\n",
    "#     p.add_tools(hover)\n",
    "\n",
    "# p.xaxis.axis_label = \"Hour of the day\"\n",
    "# p.xaxis.axis_label_standoff = 10\n",
    "# p.yaxis.axis_label = \"Relative Frequency\"\n",
    "# p.yaxis.axis_label_standoff = 10    \n",
    "# legend = Legend(items=items, location=(0, -30))\n",
    "# p.add_layout(legend, 'left')\n",
    "# p.legend.location =\"top_center\"\n",
    "# p.legend.click_policy=\"mute\"\n",
    "\n",
    "# show(p)"
   ]
  },
  {
   "cell_type": "markdown",
   "id": "2373ff7b",
   "metadata": {},
   "source": [
    "5. **Visualizations.**"
   ]
  },
  {
   "cell_type": "markdown",
   "id": "fa52956c",
   "metadata": {},
   "source": [
    "- Explain the visualizations you've chosen."
   ]
  },
  {
   "cell_type": "markdown",
   "id": "9f6528fb",
   "metadata": {},
   "source": [
    "- Why are they right for the story you want to tell?"
   ]
  },
  {
   "cell_type": "markdown",
   "id": "a413e6f8",
   "metadata": {},
   "source": [
    "6. **Discussion.** Think critically about your creation"
   ]
  },
  {
   "cell_type": "markdown",
   "id": "c2a0c345",
   "metadata": {},
   "source": [
    "- What went well?"
   ]
  },
  {
   "cell_type": "markdown",
   "id": "0cb5b532",
   "metadata": {},
   "source": [
    "- What is still missing? What could be improved?, Why?"
   ]
  },
  {
   "cell_type": "markdown",
   "id": "46fb81b8",
   "metadata": {},
   "source": [
    "7. **Contributions**. Who did what?\n",
    "You should write (just briefly) which group member was the main responsible for which elements of the assignment. (I want you guys to understand every part of the assignment, but usually there is someone who took lead role on certain portions of the work. That's what you should explain).\n",
    "It is not OK simply to write \"All group members contributed equally\"."
   ]
  },
  {
   "cell_type": "markdown",
   "id": "57c72dd2",
   "metadata": {},
   "source": [
    "8. **References.** \n",
    "Make sure that you use references when they're needed and follow academic standards."
   ]
  },
  {
   "cell_type": "markdown",
   "id": "166ac7dc",
   "metadata": {},
   "source": [
    "1. [National Earthquake Information Center (NEIC)](https://www.usgs.gov/programs/earthquake-hazards/national-earthquake-information-center-neic)\n",
    "2. [USGS](https://www.usgs.gov/)\n",
    "3. [significant-earthquake-dataset-1900-2023](https://www.kaggle.com/datasets/jahaidulislam/significant-earthquake-dataset-1900-2023?resource=download)\n",
    "4. [2010_Haiti_earthquake](https://en.wikipedia.org/wiki/2010_Haiti_earthquake)\n",
    "5. [Lists_of_21st-century_earthquakes#List_of_deadliest_earthquakes](https://en.wikipedia.org/wiki/Lists_of_21st-century_earthquakes#List_of_deadliest_earthquakes)\n",
    "6. [List_of_costliest_earthquakes](https://en.wikipedia.org/wiki/List_of_costliest_earthquakes)\n",
    "7. [Political failure has killed people in Syria before and after the earthquakes](https://www.caabu.org/news/article/political-failure-has-killed-people-syria-and-after-earthquakes)\n",
    "8. [Donors Vow 7 Bn Euros For Turkey, Syria Quake Aid](https://www.barrons.com/news/donor-conference-seeks-to-rally-quake-aid-for-turkey-syria-bce11409)"
   ]
  },
  {
   "cell_type": "code",
   "execution_count": null,
   "id": "bdb9789b",
   "metadata": {},
   "outputs": [],
   "source": []
  },
  {
   "cell_type": "code",
   "execution_count": null,
   "id": "f304d617",
   "metadata": {},
   "outputs": [],
   "source": [
    "# from bokeh.core.properties import value\n",
    "# fruits = ['Apples', 'Pears', 'Nectarines', 'Plums', 'Grapes', 'Strawberries']\n",
    "# years = [\"2015\", \"2016\", \"2017\"]\n",
    "# colors = [\"#c9d9d3\", \"#718dbf\", \"#e84d60\"]\n",
    "\n",
    "# data = {'fruits' : fruits,\n",
    "#         '2015'   : [2, 1, 4, 3, 2, 4],\n",
    "#         '2016'   : [5, 3, 4, 2, 4, 6],\n",
    "#         '2017'   : [3, 2, 4, 4, 5, 3]}\n",
    "\n",
    "# source = ColumnDataSource(data=data)\n",
    "\n",
    "# p = figure(x_range=fruits, plot_height=350, title=\"Fruit Counts by Year\",\n",
    "#            toolbar_location=None, tools=\"\")\n",
    "\n",
    "# renderers = p.vbar_stack(years, x='fruits', width=0.9, color=colors, source=source,\n",
    "#                          legend=[value(x) for x in years], name=years)\n",
    "\n",
    "# for r in renderers:\n",
    "#     year = r.name\n",
    "#     hover = HoverTool(tooltips=[\n",
    "#         (\"%s total\" % year, \"@%s\" % year),\n",
    "#         (\"index\", \"$index\")\n",
    "#     ], renderers=[r])\n",
    "#     p.add_tools(hover)\n",
    "\n",
    "# p.y_range.start = 0\n",
    "# p.x_range.range_padding = 0.1\n",
    "# p.xgrid.grid_line_color = None\n",
    "# p.axis.minor_tick_line_color = None\n",
    "# p.outline_line_color = None\n",
    "# p.legend.location = \"top_left\"\n",
    "# p.legend.orientation = \"horizontal\"\n",
    "\n",
    "# show(p)"
   ]
  }
 ],
 "metadata": {
  "kernelspec": {
   "display_name": "Python 3 (ipykernel)",
   "language": "python",
   "name": "python3"
  },
  "language_info": {
   "codemirror_mode": {
    "name": "ipython",
    "version": 3
   },
   "file_extension": ".py",
   "mimetype": "text/x-python",
   "name": "python",
   "nbconvert_exporter": "python",
   "pygments_lexer": "ipython3",
   "version": "3.9.12"
  }
 },
 "nbformat": 4,
 "nbformat_minor": 5
}
